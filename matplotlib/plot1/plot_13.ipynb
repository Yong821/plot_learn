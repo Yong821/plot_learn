{
 "cells": [
  {
   "cell_type": "code",
   "execution_count": 5,
   "id": "da0c6e26",
   "metadata": {},
   "outputs": [
    {
     "data": {
      "text/plain": [
       "<BarContainer object of 4 artists>"
      ]
     },
     "execution_count": 5,
     "metadata": {},
     "output_type": "execute_result"
    },
    {
     "data": {
      "image/png": "[encoded data removed]",
      "text/plain": [
       "<Figure size 432x288 with 1 Axes>"
      ]
     },
     "metadata": {
      "needs_background": "light"
     },
     "output_type": "display_data"
    }
   ],
   "source": [
    "    import numpy as np\n",
    "    import matplotlib.pyplot as plt\n",
    "    #准备数据\n",
    "    data = [[30, 25, 50, 20],\n",
    "    [40, 23, 51, 17],\n",
    "    [35, 22, 45, 19]]\n",
    "    X = np.arange(4)\n",
    "    label_list = ['2015', '2016', '2017', '2018']\n",
    "    fig = plt.figure()\n",
    "    #添加子图区域\n",
    "    ax = fig.add_axes([0,0,1,1])\n",
    "    ax.set_xticks(X + 0.25, label_list)\n",
    "    #绘制柱状图\n",
    "    ax.bar(X + 0.00, data[0], color = 'b', width = 0.25)\n",
    "    ax.bar(X + 0.25, data[1], color = 'g', width = 0.25)\n",
    "    ax.bar(X + 0.50, data[2], color = 'r', width = 0.25)"
   ]
  }
 ],
 "metadata": {
  "kernelspec": {
   "display_name": "Python 3 (ipykernel)",
   "language": "python",
   "name": "python3"
  },
  "language_info": {
   "codemirror_mode": {
    "name": "ipython",
    "version": 3
   },
   "file_extension": ".py",
   "mimetype": "text/x-python",
   "name": "python",
   "nbconvert_exporter": "python",
   "pygments_lexer": "ipython3",
   "version": "3.8.13"
  }
 },
 "nbformat": 4,
 "nbformat_minor": 5
}
