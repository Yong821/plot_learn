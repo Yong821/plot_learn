{
 "cells": [
  {
   "cell_type": "code",
   "execution_count": 1,
   "id": "37e0cc5b",
   "metadata": {},
   "outputs": [],
   "source": [
    "import matplotlib.pyplot as plt\n",
    "import numpy as np"
   ]
  },
  {
   "cell_type": "code",
   "execution_count": 4,
   "id": "23d99062",
   "metadata": {},
   "outputs": [],
   "source": [
    "c1 = np.random.normal(100, 10, 200)\n",
    "c2 = np.random.normal(80, 30, 200)\n",
    "c3 = np.random.normal(40, 20, 200)\n",
    "c4 = np.random.normal(50, 10, 200)\n",
    "data = [c1, c2, c3, c4]"
   ]
  },
  {
   "cell_type": "code",
   "execution_count": 9,
   "id": "7516096d",
   "metadata": {},
   "outputs": [
    {
     "data": {
      "text/plain": [
       "{'whiskers': [<matplotlib.lines.Line2D at 0x7ff29262d8e0>,\n",
       "  <matplotlib.lines.Line2D at 0x7ff29262da90>,\n",
       "  <matplotlib.lines.Line2D at 0x7ff292a4d880>,\n",
       "  <matplotlib.lines.Line2D at 0x7ff292a4d3d0>,\n",
       "  <matplotlib.lines.Line2D at 0x7ff292a30fa0>,\n",
       "  <matplotlib.lines.Line2D at 0x7ff2925692b0>,\n",
       "  <matplotlib.lines.Line2D at 0x7ff2925323d0>,\n",
       "  <matplotlib.lines.Line2D at 0x7ff2925326a0>],\n",
       " 'caps': [<matplotlib.lines.Line2D at 0x7ff29262dd60>,\n",
       "  <matplotlib.lines.Line2D at 0x7ff292a4dd90>,\n",
       "  <matplotlib.lines.Line2D at 0x7ff292a30190>,\n",
       "  <matplotlib.lines.Line2D at 0x7ff292a30460>,\n",
       "  <matplotlib.lines.Line2D at 0x7ff292569580>,\n",
       "  <matplotlib.lines.Line2D at 0x7ff292569850>,\n",
       "  <matplotlib.lines.Line2D at 0x7ff292532970>,\n",
       "  <matplotlib.lines.Line2D at 0x7ff292532c40>],\n",
       " 'boxes': [<matplotlib.lines.Line2D at 0x7ff29262d610>,\n",
       "  <matplotlib.lines.Line2D at 0x7ff292a4dc40>,\n",
       "  <matplotlib.lines.Line2D at 0x7ff292a30cd0>,\n",
       "  <matplotlib.lines.Line2D at 0x7ff292532100>],\n",
       " 'medians': [<matplotlib.lines.Line2D at 0x7ff292a4d5e0>,\n",
       "  <matplotlib.lines.Line2D at 0x7ff292a30730>,\n",
       "  <matplotlib.lines.Line2D at 0x7ff292569b20>,\n",
       "  <matplotlib.lines.Line2D at 0x7ff292532f10>],\n",
       " 'fliers': [<matplotlib.lines.Line2D at 0x7ff292a4dee0>,\n",
       "  <matplotlib.lines.Line2D at 0x7ff292a30a00>,\n",
       "  <matplotlib.lines.Line2D at 0x7ff292569df0>,\n",
       "  <matplotlib.lines.Line2D at 0x7ff292547220>],\n",
       " 'means': []}"
      ]
     },
     "execution_count": 9,
     "metadata": {},
     "output_type": "execute_result"
    },
    {
     "data": {
      "image/png": "[encoded data removed]",
      "text/plain": [
       "<Figure size 432x288 with 1 Axes>"
      ]
     },
     "metadata": {
      "needs_background": "light"
     },
     "output_type": "display_data"
    }
   ],
   "source": [
    "fig, ax = plt.subplots()\n",
    "ax.boxplot(data)"
   ]
  }
 ],
 "metadata": {
  "kernelspec": {
   "display_name": "Python 3 (ipykernel)",
   "language": "python",
   "name": "python3"
  },
  "language_info": {
   "codemirror_mode": {
    "name": "ipython",
    "version": 3
   },
   "file_extension": ".py",
   "mimetype": "text/x-python",
   "name": "python",
   "nbconvert_exporter": "python",
   "pygments_lexer": "ipython3",
   "version": "3.8.13"
  }
 },
 "nbformat": 4,
 "nbformat_minor": 5
}
