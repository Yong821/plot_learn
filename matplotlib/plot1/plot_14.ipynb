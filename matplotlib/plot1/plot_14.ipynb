{
 "cells": [
  {
   "cell_type": "code",
   "execution_count": 4,
   "id": "fa2405e5",
   "metadata": {},
   "outputs": [],
   "source": [
    "import matplotlib.pyplot as plt"
   ]
  },
  {
   "cell_type": "code",
   "execution_count": 20,
   "id": "318f9e05",
   "metadata": {},
   "outputs": [
    {
     "data": {
      "text/plain": [
       "[<matplotlib.axis.XTick at 0x7f5e02f492e0>,\n",
       " <matplotlib.axis.XTick at 0x7f5e02f492b0>,\n",
       " <matplotlib.axis.XTick at 0x7f5e03039400>,\n",
       " <matplotlib.axis.XTick at 0x7f5e02f013d0>,\n",
       " <matplotlib.axis.XTick at 0x7f5e02f01b20>]"
      ]
     },
     "execution_count": 20,
     "metadata": {},
     "output_type": "execute_result"
    },
    {
     "data": {
      "image/png": "[encoded data removed]",
      "text/plain": [
       "<Figure size 432x288 with 1 Axes>"
      ]
     },
     "metadata": {
      "needs_background": "light"
     },
     "output_type": "display_data"
    }
   ],
   "source": [
    "x = [22,87,5,43,56,73,55,54,11,20,51,5,79,31,27]\n",
    "fig, ax = plt.subplots()\n",
    "ax.hist(x, bins=[0, 25, 50, 75, 100])              #这里的bins最好和下面的set_xticks一致\n",
    "ax.set_xticks([0, 25, 50, 75, 100])"
   ]
  }
 ],
 "metadata": {
  "kernelspec": {
   "display_name": "Python 3 (ipykernel)",
   "language": "python",
   "name": "python3"
  },
  "language_info": {
   "codemirror_mode": {
    "name": "ipython",
    "version": 3
   },
   "file_extension": ".py",
   "mimetype": "text/x-python",
   "name": "python",
   "nbconvert_exporter": "python",
   "pygments_lexer": "ipython3",
   "version": "3.8.13"
  }
 },
 "nbformat": 4,
 "nbformat_minor": 5
}
